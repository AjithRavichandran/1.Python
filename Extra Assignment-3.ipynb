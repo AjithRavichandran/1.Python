{
 "cells": [
  {
   "cell_type": "code",
   "execution_count": 1,
   "id": "fddc4bcf-073d-482e-8af0-566f322451c6",
   "metadata": {},
   "outputs": [
    {
     "name": "stdout",
     "output_type": "stream",
     "text": [
      "value: 10\n",
      "Correct\n"
     ]
    }
   ],
   "source": [
    "value=10\n",
    "print(f'value: {value}')\n",
    "if value == 10:\n",
    "    print('Correct')"
   ]
  },
  {
   "cell_type": "code",
   "execution_count": 4,
   "id": "064a6cc1-d325-47a1-b9b3-7321a7b32bb0",
   "metadata": {},
   "outputs": [
    {
     "name": "stdin",
     "output_type": "stream",
     "text": [
      "Enter the password: HOPE@123\n"
     ]
    },
    {
     "name": "stdout",
     "output_type": "stream",
     "text": [
      "Your password is correct\n"
     ]
    }
   ],
   "source": [
    "password=input('Enter the password:')\n",
    "if password=='HOPE@123':\n",
    "    print('Your password is correct')\n",
    "else:\n",
    "    print('Incorrrect password')"
   ]
  },
  {
   "cell_type": "code",
   "execution_count": 5,
   "id": "8bdba255-eb04-4c30-b8e7-fcc58097f2ab",
   "metadata": {},
   "outputs": [
    {
     "name": "stdout",
     "output_type": "stream",
     "text": [
      "age: 20\n",
      "Adult\n"
     ]
    }
   ],
   "source": [
    "age=20\n",
    "print(f'age: {age}')\n",
    "if age<18:\n",
    "    print('Child')\n",
    "elif age<25:\n",
    "    print('Adult')\n",
    "elif age<56:\n",
    "    print('Citizen')\n",
    "else:\n",
    "    print('Senior Citizen')\n",
    "    "
   ]
  },
  {
   "cell_type": "code",
   "execution_count": 7,
   "id": "3a9b4abe-e263-4e23-843f-c5e27af5dc12",
   "metadata": {},
   "outputs": [
    {
     "name": "stdin",
     "output_type": "stream",
     "text": [
      "Enter any number: 1\n"
     ]
    },
    {
     "name": "stdout",
     "output_type": "stream",
     "text": [
      "1 is positive\n"
     ]
    }
   ],
   "source": [
    "num=int(input('Enter any number:'))\n",
    "if num>0:\n",
    "    print(f'{num} is positive')\n",
    "else:\n",
    "    print(f'{num} is negative')"
   ]
  },
  {
   "cell_type": "code",
   "execution_count": 8,
   "id": "f770f632-afac-4586-a3f3-d0f6873225db",
   "metadata": {},
   "outputs": [
    {
     "name": "stdin",
     "output_type": "stream",
     "text": [
      "Enter a number to check: 22\n"
     ]
    },
    {
     "name": "stdout",
     "output_type": "stream",
     "text": [
      "22 is not divisible by 5\n"
     ]
    }
   ],
   "source": [
    "num=int(input('Enter a number to check:'))\n",
    "if num%5!=0:\n",
    "    print(f'{num} is not divisible by 5')\n",
    "else:\n",
    "    print(f'{num} is divisible by 5')"
   ]
  },
  {
   "cell_type": "code",
   "execution_count": null,
   "id": "c68ffe06-2b35-41c2-bbd7-84054ee0341d",
   "metadata": {},
   "outputs": [],
   "source": []
  }
 ],
 "metadata": {
  "kernelspec": {
   "display_name": "Python 3 (ipykernel)",
   "language": "python",
   "name": "python3"
  },
  "language_info": {
   "codemirror_mode": {
    "name": "ipython",
    "version": 3
   },
   "file_extension": ".py",
   "mimetype": "text/x-python",
   "name": "python",
   "nbconvert_exporter": "python",
   "pygments_lexer": "ipython3",
   "version": "3.12.4"
  }
 },
 "nbformat": 4,
 "nbformat_minor": 5
}
