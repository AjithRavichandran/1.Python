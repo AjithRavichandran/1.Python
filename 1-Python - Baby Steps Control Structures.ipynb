{
 "cells": [
  {
   "cell_type": "code",
   "execution_count": 1,
   "id": "19be2000-04d9-4c75-afb5-d87fe247d566",
   "metadata": {},
   "outputs": [
    {
     "name": "stdout",
     "output_type": "stream",
     "text": [
      "Welcome to Assignment-1\n"
     ]
    }
   ],
   "source": [
    "print(\"Welcome to Assignment-1\")"
   ]
  },
  {
   "cell_type": "code",
   "execution_count": 18,
   "id": "5bdebfd2-508d-4bad-9293-840521f4655c",
   "metadata": {},
   "outputs": [
    {
     "name": "stdout",
     "output_type": "stream",
     "text": [
      "Num1= 10\n",
      "Num2= 30\n",
      "Add= 40\n"
     ]
    }
   ],
   "source": [
    "Num1,Num2=10,30\n",
    "print('Num1= 10\\nNum2= 30')\n",
    "Add=Num1+Num2\n",
    "print(f'Add= {Add}')"
   ]
  },
  {
   "cell_type": "code",
   "execution_count": 16,
   "id": "977c1103-5772-45e2-b530-9407374d8785",
   "metadata": {},
   "outputs": [
    {
     "name": "stdin",
     "output_type": "stream",
     "text": [
      "Enter the BMI Index: 34\n"
     ]
    },
    {
     "name": "stdout",
     "output_type": "stream",
     "text": [
      "Very Overweight\n"
     ]
    }
   ],
   "source": [
    "BMI=int(input('Enter the BMI Index:'))\n",
    "if BMI<=18.5:\n",
    "    print('Underweight')\n",
    "elif BMI<=24.9:\n",
    "    print('Normal')\n",
    "elif BMI<=29.9:\n",
    "    print('Overweight')\n",
    "elif BMI<=34.9:\n",
    "    print('Very Overweight')\n"
   ]
  },
  {
   "cell_type": "code",
   "execution_count": null,
   "id": "9c30fbb3-52c5-4d8d-b0d8-ba923c20bb14",
   "metadata": {},
   "outputs": [],
   "source": []
  }
 ],
 "metadata": {
  "kernelspec": {
   "display_name": "Python 3 (ipykernel)",
   "language": "python",
   "name": "python3"
  },
  "language_info": {
   "codemirror_mode": {
    "name": "ipython",
    "version": 3
   },
   "file_extension": ".py",
   "mimetype": "text/x-python",
   "name": "python",
   "nbconvert_exporter": "python",
   "pygments_lexer": "ipython3",
   "version": "3.12.4"
  }
 },
 "nbformat": 4,
 "nbformat_minor": 5
}
