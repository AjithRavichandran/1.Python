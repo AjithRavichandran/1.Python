{
 "cells": [
  {
   "cell_type": "code",
   "execution_count": 1,
   "id": "9f7b585e-13e4-4df8-a3d8-d2385b00ee64",
   "metadata": {},
   "outputs": [
    {
     "name": "stdout",
     "output_type": "stream",
     "text": [
      "HOPE AI\n"
     ]
    }
   ],
   "source": [
    "print('HOPE AI')"
   ]
  },
  {
   "cell_type": "code",
   "execution_count": 2,
   "id": "334387e1-3a94-4b80-97c0-ce2d4bbe8ea4",
   "metadata": {},
   "outputs": [
    {
     "name": "stdin",
     "output_type": "stream",
     "text": [
      "Enter your institute name? : HOPE AI\n"
     ]
    }
   ],
   "source": [
    "institute_name=input('Enter your institute name? :')"
   ]
  },
  {
   "cell_type": "code",
   "execution_count": 3,
   "id": "b7af437c-f4d3-4254-849f-9f9e759dd408",
   "metadata": {},
   "outputs": [
    {
     "name": "stdin",
     "output_type": "stream",
     "text": [
      "Enter your name: Ajith Ravichandran\n",
      "Enter your age: 24\n",
      "Enter your school name: Le chatlier school\n",
      "Enter your degree: BCA\n"
     ]
    }
   ],
   "source": [
    "name=input('Enter your name:')\n",
    "age=int(input('Enter your age:'))\n",
    "school_name=input('Enter your school name:')\n",
    "degree=input('Enter your degree:')"
   ]
  },
  {
   "cell_type": "code",
   "execution_count": 4,
   "id": "5dad21e4-a322-4ee2-bb0b-de7bd6500703",
   "metadata": {},
   "outputs": [
    {
     "name": "stdout",
     "output_type": "stream",
     "text": [
      "a= 43\n",
      "b= 34\n",
      "add = 77\n"
     ]
    }
   ],
   "source": [
    "a,b=43,34\n",
    "print(f'a= {a}')\n",
    "print(f'b= {b}')\n",
    "Add=a+b\n",
    "print(f'add = {Add}')"
   ]
  },
  {
   "cell_type": "code",
   "execution_count": 5,
   "id": "8bc28043-faa3-4c0d-9636-9297cbe1fc60",
   "metadata": {},
   "outputs": [
    {
     "name": "stdout",
     "output_type": "stream",
     "text": [
      "a= 43\n",
      "b= 34\n",
      "Sub = 9\n"
     ]
    }
   ],
   "source": [
    "a,b=43,34\n",
    "print(f'a= {a}')\n",
    "print(f'b= {b}')\n",
    "sub=a-b\n",
    "print(f'Sub = {sub}')"
   ]
  },
  {
   "cell_type": "code",
   "execution_count": 6,
   "id": "77ce59c0-75dc-4507-9b45-b22c650e3c12",
   "metadata": {},
   "outputs": [
    {
     "name": "stdout",
     "output_type": "stream",
     "text": [
      "a= 63\n",
      "b= 97\n",
      "Mul = 6111\n"
     ]
    }
   ],
   "source": [
    "a,b=63,97\n",
    "print(f'a= {a}')\n",
    "print(f'b= {b}')\n",
    "mul=a*b\n",
    "print(f'Mul = {mul}')"
   ]
  },
  {
   "cell_type": "code",
   "execution_count": 8,
   "id": "94f19e33-98e3-4bc3-ab05-f6d8bf324751",
   "metadata": {},
   "outputs": [
    {
     "name": "stdout",
     "output_type": "stream",
     "text": [
      "a= 76\n",
      "b= 31\n",
      "Float Div = 2.4516129032258065\n"
     ]
    }
   ],
   "source": [
    "a,b=76,31\n",
    "print(f'a= {a}')\n",
    "print(f'b= {b}')\n",
    "div=a/b\n",
    "print(f'Float Div = {div}')"
   ]
  },
  {
   "cell_type": "code",
   "execution_count": 9,
   "id": "9a6a0829-da55-47f2-b0dd-0f85fbff037b",
   "metadata": {},
   "outputs": [
    {
     "name": "stdout",
     "output_type": "stream",
     "text": [
      "a= 76\n",
      "b= 31\n",
      "Float Div = 2\n"
     ]
    }
   ],
   "source": [
    "a,b=76,31\n",
    "print(f'a= {a}')\n",
    "print(f'b= {b}')\n",
    "div=a/b\n",
    "div2=round(div)\n",
    "print(f'Float Div = {div2}')"
   ]
  },
  {
   "cell_type": "code",
   "execution_count": 11,
   "id": "3da6770d-27d2-45cd-aa9a-6a83e5a1b72f",
   "metadata": {},
   "outputs": [
    {
     "name": "stdout",
     "output_type": "stream",
     "text": [
      "a= 76\n",
      "b= 31\n",
      "Modulo = 14\n"
     ]
    }
   ],
   "source": [
    "a,b=76,31\n",
    "print(f'a= {a}')\n",
    "print(f'b= {b}')\n",
    "modulo=a%b\n",
    "print(f'Modulo = {modulo}')"
   ]
  },
  {
   "cell_type": "code",
   "execution_count": 13,
   "id": "bde18b38-e800-4fae-a356-af632ca1db6b",
   "metadata": {},
   "outputs": [
    {
     "name": "stdout",
     "output_type": "stream",
     "text": [
      "a= 4\n",
      "b= 4\n",
      "Power = 256\n"
     ]
    }
   ],
   "source": [
    "a,b=4,4\n",
    "print(f'a= {a}')\n",
    "print(f'b= {b}')\n",
    "power=4**4\n",
    "print(f'Power = {power}')"
   ]
  },
  {
   "cell_type": "code",
   "execution_count": null,
   "id": "5b037a28-fd41-43a9-941f-cf93a280ba2b",
   "metadata": {},
   "outputs": [],
   "source": []
  }
 ],
 "metadata": {
  "kernelspec": {
   "display_name": "Python 3 (ipykernel)",
   "language": "python",
   "name": "python3"
  },
  "language_info": {
   "codemirror_mode": {
    "name": "ipython",
    "version": 3
   },
   "file_extension": ".py",
   "mimetype": "text/x-python",
   "name": "python",
   "nbconvert_exporter": "python",
   "pygments_lexer": "ipython3",
   "version": "3.12.4"
  }
 },
 "nbformat": 4,
 "nbformat_minor": 5
}
